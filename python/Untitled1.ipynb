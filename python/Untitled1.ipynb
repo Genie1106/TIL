{
 "cells": [
  {
   "cell_type": "code",
   "execution_count": null,
   "metadata": {},
   "outputs": [],
   "source": [
    "# No.1\n",
    "n,m = map(int,input().split())\n",
    "star = \"*\"*n\n",
    "enter = \"\\n\"\n",
    "print((star+enter)*m)"
   ]
  },
  {
   "cell_type": "code",
   "execution_count": null,
   "metadata": {},
   "outputs": [],
   "source": [
    "# No.2\n",
    "student = {'python': 80, 'algorithm':99, 'django':89, \"flask\":83 }\n",
    "score = sum(student.values())\n",
    "num=len(student)\n",
    "avg = score/num\n",
    "print(avg)"
   ]
  },
  {
   "cell_type": "code",
   "execution_count": null,
   "metadata": {},
   "outputs": [],
   "source": [
    "# No.3\n",
    "\n",
    "blood_types=['A','B','A','O','AB','O','A','B','O',\"B\",'AB']\n",
    "\n",
    "A=0\n",
    "B=0\n",
    "AB=0\n",
    "O=0\n",
    "\n",
    "for i in range(len(blood_types)):\n",
    "    if blood_types[i]=='A':\n",
    "        A=A+1\n",
    "    elif blood_types[i]=='B':\n",
    "        B=B+1\n",
    "    elif blood_types[i]=='O':\n",
    "        O=O+1\n",
    "    else:\n",
    "        AB=AB+1\n",
    "\n",
    "print(f\"A형은 {A}명\")\n",
    "print(f\"B형은 {B}명\")\n",
    "print(f\"O형은 {O}명\")\n",
    "print(f\"AB형은 {AB}명\")"
   ]
  }
 ],
 "metadata": {
  "kernelspec": {
   "display_name": "Python 3",
   "language": "python",
   "name": "python3"
  },
  "language_info": {
   "codemirror_mode": {
    "name": "ipython",
    "version": 3
   },
   "file_extension": ".py",
   "mimetype": "text/x-python",
   "name": "python",
   "nbconvert_exporter": "python",
   "pygments_lexer": "ipython3",
   "version": "3.7.1"
  }
 },
 "nbformat": 4,
 "nbformat_minor": 2
}
