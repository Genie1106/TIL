{
 "cells": [
  {
   "cell_type": "code",
   "execution_count": null,
   "metadata": {},
   "outputs": [],
   "source": [
    "a = {'아메리카노': 2000, '카페모카': 3300, '에스프레소': 1900, '카페라떼': 2500, '카푸치노': 2500, '바닐라라떼': 2900}\n",
    "b = {'헤이즐럿라떼': 2900, '카페모카': 3300, '밀크커피': 3300, '아메리카노': 1900, '샷크린티라떼': 3300}\n",
    "c={}\n",
    "for x,y in a.items():\n",
    "    b.update({x:y})\n",
    "\n",
    "for x,y in b.items():\n",
    "    if y>=3000:\n",
    "        c.update({x:y})\n",
    "print(b)\n",
    "print(c)"
   ]
  },
  {
   "cell_type": "code",
   "execution_count": null,
   "metadata": {},
   "outputs": [],
   "source": [
    "fruit = ['   apple    ','banana','  melon']\n",
    "new_dict={}\n",
    "for i in fruit:\n",
    "    fruit[fruit.index(i)]=i.strip()\n",
    "\n",
    "for dic in fruit:\n",
    "    new_dict[dic]=len(dic)\n",
    "    \n",
    "print(fruit)\n",
    "print(new_dict)"
   ]
  },
  {
   "cell_type": "code",
   "execution_count": null,
   "metadata": {},
   "outputs": [],
   "source": [
    "N=int(input())\n",
    "new={}\n",
    "for dic in range(1,N+1):\n",
    "    new[dic]=dic**2\n",
    "    \n",
    "print(new)"
   ]
  },
  {
   "cell_type": "code",
   "execution_count": 3,
   "metadata": {},
   "outputs": [
    {
     "name": "stdout",
     "output_type": "stream",
     "text": [
      "hello world! 123\n",
      "LETTERS 10\n",
      "DIGITS 3\n"
     ]
    }
   ],
   "source": [
    "letter=input()\n",
    "LETTERS,DIGITS=0,0\n",
    "for i in letter:\n",
    "    if i.isalpha():\n",
    "        LETTERS+=1\n",
    "    elif i.isdigit():\n",
    "        DIGITS+=1\n",
    "print(f\"LETTERS {LETTERS}\")\n",
    "print(f\"DIGITS {DIGITS}\")"
   ]
  },
  {
   "cell_type": "code",
   "execution_count": 4,
   "metadata": {},
   "outputs": [
    {
     "name": "stdout",
     "output_type": "stream",
     "text": [
      "Hello World!!\n",
      "LETTERS 2\n",
      "DIGITS 8\n"
     ]
    }
   ],
   "source": [
    "letter=input()\n",
    "LETTERS,DIGITS=0,0\n",
    "for i in letter:\n",
    "    if i.isupper():\n",
    "        LETTERS+=1\n",
    "    elif i.islower():\n",
    "        DIGITS+=1\n",
    "print(f\"LETTERS {LETTERS}\")\n",
    "print(f\"DIGITS {DIGITS}\")"
   ]
  },
  {
   "cell_type": "code",
   "execution_count": 9,
   "metadata": {},
   "outputs": [
    {
     "name": "stdout",
     "output_type": "stream",
     "text": [
      "{'하이트': 2100.0, '카스': 2205.0, '칭따오': 2625.0, '하이네켄': 4200.0, '버드와이저': 525.0}\n"
     ]
    }
   ],
   "source": [
    "beer = {'하이트': 2000, '카스': 2100, '칭따오': 2500, '하이네켄': 4000, '버드와이저': 500}\n",
    "\n",
    "for x,y in beer.items():\n",
    "    beer[x]=y*1.05\n",
    "print(beer)\n"
   ]
  },
  {
   "cell_type": "code",
   "execution_count": 24,
   "metadata": {},
   "outputs": [],
   "source": [
    "pi=3.14\n",
    "class Point:\n",
    "    def __init__(self,x,y):\n",
    "        self.x=x\n",
    "        self.y=y\n",
    "        \n",
    "class Circle:\n",
    "    def __init__(self,center,r):\n",
    "        self.center=(center.x,center.y)\n",
    "        self.r=r\n",
    "    \n",
    "    def get_area(self):\n",
    "        return pi*(self.r**2)\n",
    "    \n",
    "    def get_perimeter(self):\n",
    "        return 2*pi*self.r\n",
    "    \n",
    "    def get_center(self):\n",
    "        return self.center\n",
    "    \n",
    "    def print(self):\n",
    "        print(f\"Circle: {self.center}, r: {self.r}\")\n",
    "        "
   ]
  },
  {
   "cell_type": "code",
   "execution_count": 26,
   "metadata": {},
   "outputs": [
    {
     "name": "stdout",
     "output_type": "stream",
     "text": [
      "28.26\n"
     ]
    }
   ],
   "source": [
    "p1=Point(0,0)\n",
    "c1=Circle(p1,3)\n",
    "print(c1.get_area())"
   ]
  },
  {
   "cell_type": "code",
   "execution_count": 28,
   "metadata": {},
   "outputs": [
    {
     "name": "stdout",
     "output_type": "stream",
     "text": [
      "{'bookC': 3, 'bookD': 4, 'bookE': 5, 'bookA': 1, 'bookB': 2}\n"
     ]
    }
   ],
   "source": [
    "dict1 = {'bookA': 1, 'bookB': 2, 'bookC': 3}\n",
    "dict2 = {'bookC': 2, 'bookD': 4, 'bookE': 5}\n",
    "\n",
    "dict2.update(dict1)\n",
    "\n",
    "print(dict2)"
   ]
  },
  {
   "cell_type": "code",
   "execution_count": 89,
   "metadata": {},
   "outputs": [
    {
     "name": "stdout",
     "output_type": "stream",
     "text": [
      "bookA\n",
      "bookB\n",
      "bookC\n",
      "apple\n"
     ]
    }
   ],
   "source": [
    "dict1 = {'bookA': 1, 'bookB': 2, 'bookC': 3, 'apple':{'bookC': 2, 'bookD': 4, 'bookE': 5}}\n",
    "\n",
    "for i in dict1.keys():\n",
    "    print(i)\n",
    "    "
   ]
  },
  {
   "cell_type": "code",
   "execution_count": 94,
   "metadata": {},
   "outputs": [
    {
     "name": "stdout",
     "output_type": "stream",
     "text": [
      "S001\n",
      "S002\n",
      "S001\n",
      "S005\n",
      "S005\n",
      "S009\n",
      "S007\n",
      "{}\n"
     ]
    }
   ],
   "source": [
    "sample=[{\"V\":\"S001\"}, {\"V\": \"S002\"}, {\"VI\": \"S001\"}, {\"VI\": \"S005\"}, {\"VII\":\"S005\"}, {\"V\":\"S009\"},{\"VIII\":\"S007\"}]\n",
    "new={}\n",
    "for i in sample:\n",
    "    new.update(i)\n",
    "print(new)"
   ]
  },
  {
   "cell_type": "code",
   "execution_count": null,
   "metadata": {},
   "outputs": [],
   "source": []
  }
 ],
 "metadata": {
  "kernelspec": {
   "display_name": "Python 3",
   "language": "python",
   "name": "python3"
  },
  "language_info": {
   "codemirror_mode": {
    "name": "ipython",
    "version": 3
   },
   "file_extension": ".py",
   "mimetype": "text/x-python",
   "name": "python",
   "nbconvert_exporter": "python",
   "pygments_lexer": "ipython3",
   "version": "3.7.1"
  }
 },
 "nbformat": 4,
 "nbformat_minor": 2
}
