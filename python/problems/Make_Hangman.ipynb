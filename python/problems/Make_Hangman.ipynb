{
 "cells": [
  {
   "cell_type": "markdown",
   "metadata": {},
   "source": [
    "# 행맨 게임 만들기 "
   ]
  },
  {
   "cell_type": "markdown",
   "metadata": {},
   "source": [
    "## 답안 확인 하기\n",
    "\n",
    "> 행맨 게임을 위한 코드를 작성해봅시다. \n",
    ">\n",
    "> `isanswer(answer, letters)`는 정답 문자열(answer)과 추측 알파벳의 리스트(letters)를 받아서, True/False 결과를 반환합니다."
   ]
  },
  {
   "cell_type": "code",
   "execution_count": null,
   "metadata": {},
   "outputs": [],
   "source": [
    "# 여기에 코드를 작성하세요.\n",
    "def isanswer(answer, letters):\n",
    "    fact=0\n",
    "    for i in answer:\n",
    "        if not i in letters:\n",
    "            fact=1\n",
    "            break\n",
    "            \n",
    "    if fact:\n",
    "        return False\n",
    "    else:\n",
    "        return True"
   ]
  },
  {
   "cell_type": "code",
   "execution_count": null,
   "metadata": {},
   "outputs": [],
   "source": [
    "def isanswer(answer, letters):\n",
    "    for i in answer:\n",
    "        if not i in letters:\n",
    "            return False\n",
    "    return True"
   ]
  },
  {
   "cell_type": "code",
   "execution_count": null,
   "metadata": {
    "scrolled": true
   },
   "outputs": [],
   "source": [
    "isanswer('apple', 'a') #=> False"
   ]
  },
  {
   "cell_type": "markdown",
   "metadata": {},
   "source": [
    "## 현재 상태 출력하기\n",
    "\n",
    "> 행맨 게임을 위한 코드를 작성해봅시다. \n",
    ">\n",
    "> `status(answer, letters)`는 정답 문자열(answer)과 추측 알파벳의 리스트(letters)를 받아서, 현재 결과를 반환합니다."
   ]
  },
  {
   "cell_type": "code",
   "execution_count": null,
   "metadata": {},
   "outputs": [],
   "source": [
    "# replace\n",
    "def status(answer, letters):\n",
    "    my_answer=list(\"_\")*len(answer)\n",
    "    for word in letters:\n",
    "        if answer.count(word)==1:\n",
    "            my_answer[answer.index(word)]= word\n",
    "        elif answer.count(word)>1:\n",
    "            i=0\n",
    "            for a in range(len(answer)):\n",
    "                if answer[a] == word:\n",
    "                    my_answer[a]= word\n",
    "                \n",
    "    return \"\".join(my_answer)"
   ]
  },
  {
   "cell_type": "code",
   "execution_count": null,
   "metadata": {},
   "outputs": [],
   "source": [
    "def status(answer,letters):\n",
    "    for word in answer:\n",
    "        if not word in letters:\n",
    "            answer=answer.replace(word,\"_\",answer.count(word))\n",
    "    return answer"
   ]
  },
  {
   "cell_type": "code",
   "execution_count": null,
   "metadata": {},
   "outputs": [],
   "source": [
    "status('apple', ['a', 'e', 'l']) #=> 'appl_'"
   ]
  },
  {
   "cell_type": "code",
   "execution_count": null,
   "metadata": {},
   "outputs": [],
   "source": [
    "status('mijinwoo', ['m', 'o', 'w'])"
   ]
  },
  {
   "cell_type": "markdown",
   "metadata": {},
   "source": [
    "## 행맨 로직 만들기 - 자유코딩!\n",
    "\n",
    "> 위의 코드를 활용하여 `hangman(answer)`를 만들어봅시다!\n",
    ">\n",
    "> 사용자가 답을 맞출 때까지 진행하며, 8번내로 정답을 맞춰야 합니다.\n"
   ]
  },
  {
   "cell_type": "code",
   "execution_count": 3,
   "metadata": {},
   "outputs": [],
   "source": [
    "def isanswer(answer, letters):\n",
    "    for i in answer:\n",
    "        if i in letters:\n",
    "            return True\n",
    "    return False"
   ]
  },
  {
   "cell_type": "code",
   "execution_count": 4,
   "metadata": {},
   "outputs": [],
   "source": [
    "def status(answer,letters):\n",
    "    for word in answer:\n",
    "        if not word in letters:\n",
    "            answer=answer.replace(word,\"_\",answer.count(word))\n",
    "    return answer"
   ]
  },
  {
   "cell_type": "code",
   "execution_count": 10,
   "metadata": {},
   "outputs": [],
   "source": [
    "def hangman(answer):\n",
    "    letters=[]\n",
    "    for i in range(len(answer)+3):\n",
    "        N = input()\n",
    "        letters.append(N)\n",
    "        if status(answer,letters) == answer:\n",
    "            return print(f\"{answer} 정답입니다!!\")\n",
    "        else:\n",
    "            if isanswer(answer,N)==True:\n",
    "                print(status(answer,letters))\n",
    "            else:\n",
    "                print(f\"{N}은(는) 없습니다.\")\n",
    "                print(status(answer,letters))\n",
    "        \n",
    "    return \"Fail\""
   ]
  },
  {
   "cell_type": "code",
   "execution_count": 11,
   "metadata": {},
   "outputs": [
    {
     "name": "stdout",
     "output_type": "stream",
     "text": [
      "a\n",
      "a________a____\n",
      "e\n",
      "a___e___ea___e\n",
      "i\n",
      "a___e_i_ea___e\n",
      "o\n",
      "o은(는) 없습니다.\n",
      "a___e_i_ea___e\n",
      "u\n",
      "u은(는) 없습니다.\n",
      "a___e_i_ea___e\n",
      "p\n",
      "app_epi_eapp_e\n",
      "w\n",
      "w은(는) 없습니다.\n",
      "app_epi_eapp_e\n",
      "l\n",
      "applepi_eapple\n",
      "p\n",
      "applepi_eapple\n",
      "n\n",
      "applepineapple 정답입니다!!\n"
     ]
    }
   ],
   "source": [
    "hangman('applepineapple')"
   ]
  }
 ],
 "metadata": {
  "kernelspec": {
   "display_name": "Python 3",
   "language": "python",
   "name": "python3"
  },
  "latex_envs": {
   "LaTeX_envs_menu_present": true,
   "autoclose": false,
   "autocomplete": true,
   "bibliofile": "biblio.bib",
   "cite_by": "apalike",
   "current_citInitial": 1,
   "eqLabelWithNumbers": true,
   "eqNumInitial": 1,
   "hotkeys": {
    "equation": "Ctrl-E",
    "itemize": "Ctrl-I"
   },
   "labels_anchors": false,
   "latex_user_defs": false,
   "report_style_numbering": false,
   "user_envs_cfg": false
  },
  "toc": {
   "base_numbering": 1,
   "nav_menu": {},
   "number_sections": true,
   "sideBar": true,
   "skip_h1_title": false,
   "title_cell": "Table of Contents",
   "title_sidebar": "Contents",
   "toc_cell": false,
   "toc_position": {},
   "toc_section_display": true,
   "toc_window_display": false
  }
 },
 "nbformat": 4,
 "nbformat_minor": 2
}
