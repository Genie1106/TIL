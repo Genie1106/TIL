{
 "cells": [
  {
   "cell_type": "markdown",
   "metadata": {},
   "source": [
    "# 가상화폐 시세 판단하기"
   ]
  },
  {
   "cell_type": "markdown",
   "metadata": {},
   "source": [
    "> 최고가와 최저가의 차이를 변동폭으로 정의할 때 (시가 + 변동폭)이 최고가 보다 높을 경우 \"상승장\", 그렇지 않은 경우 \"하락장\" 문자열을 출력하라.\n",
    "\n",
    "|Key Name        |     Description|\n",
    "|---|---|\n",
    "|opeing_price    |최근 24시간 내 시작 거래금액|\n",
    "|closing_price   |최근 24시간 내 마지막 거래금액|\n",
    "|min_price       |최근 24시간 내 최저 거래금액|\n",
    "|max_price       |최근 24시간 내 최고 거래금액|"
   ]
  },
  {
   "cell_type": "code",
   "execution_count": 1,
   "metadata": {},
   "outputs": [
    {
     "name": "stdout",
     "output_type": "stream",
     "text": [
      "{'opening_price': '4266000', 'closing_price': '4337000', 'min_price': '4240000', 'max_price': '4379000', 'average_price': '4308690.9327', 'units_traded': '15801.5609765', 'volume_1day': '15801.5609765', 'volume_7day': '43048.60966475', 'buy_price': '4331000', 'sell_price': '4337000', '24H_fluctate': '71000', '24H_fluctate_rate': '1.66', 'date': '1546490279106'}\n"
     ]
    }
   ],
   "source": [
    "import requests\n",
    "btc = requests.get('https://api.bithumb.com/public/ticker/btc').json()['data']\n",
    "print(btc)"
   ]
  },
  {
   "cell_type": "code",
   "execution_count": 20,
   "metadata": {},
   "outputs": [
    {
     "name": "stdout",
     "output_type": "stream",
     "text": [
      "상승장\n"
     ]
    }
   ],
   "source": [
    "# 아래에 코드를 작성하세요.\n",
    "\n",
    "high = float(btc['max_price'])\n",
    "low =  float(btc['min_price'])\n",
    "first = float(btc[\"opening_price\"])    \n",
    "\n",
    "change = high - low\n",
    "\n",
    "if (first + change)> high:\n",
    "    print(\"상승장\")\n",
    "else:\n",
    "    print(\"하락장\")"
   ]
  },
  {
   "cell_type": "code",
   "execution_count": 87,
   "metadata": {},
   "outputs": [
    {
     "name": "stdout",
     "output_type": "stream",
     "text": [
      "상승장\n"
     ]
    }
   ],
   "source": [
    "opening_price = int(btc['opening_price'])\n",
    "max_price = int(btc['max_price'])\n",
    "min_price = int(btc['min_price'])\n",
    "\n",
    "if opening_price + (max_price - min_price) > max_price:\n",
    "    print(\"상승장\")\n",
    "else:\n",
    "    print(\"하락장\")"
   ]
  },
  {
   "cell_type": "markdown",
   "metadata": {},
   "source": [
    "## 모든 가상화폐 시세 판단하기\n",
    "\n",
    "\n",
    "> currrency dictionary에 담겨있는 모든 가상화폐 거래내역을 바탕으로 출력하라.\n",
    ">\n",
    "> 예외 처리에 유의하세요.\n",
    "\n",
    "\n",
    "\n",
    "```\n",
    "예시 출력)\n",
    "BTC 상승장\n",
    "ETH 상승장\n",
    "DASH 상승장\n",
    "LTC 하락장\n",
    "ETC 하락장\n",
    "XRP 상승장\n",
    "BCH 상승장\n",
    "...\n",
    "```\n"
   ]
  },
  {
   "cell_type": "code",
   "execution_count": 54,
   "metadata": {},
   "outputs": [
    {
     "name": "stdout",
     "output_type": "stream",
     "text": [
      "{'BTC': {'opening_price': '4264000', 'closing_price': '4328000', 'min_price': '4240000', 'max_price': '4379000', 'average_price': '4309765.0209', 'units_traded': '15833.56929852', 'volume_1day': '15833.56929852', 'volume_7day': '43059.07917003', 'buy_price': '4327000', 'sell_price': '4330000', '24H_fluctate': '64000', '24H_fluctate_rate': '1.50'}, 'ETH': {'opening_price': '157600', 'closing_price': '172500', 'min_price': '156600', 'max_price': '174000', 'average_price': '168007.5892', 'units_traded': '525117.92842658', 'volume_1day': '525117.92842658', 'volume_7day': '1553860.102133508545990484', 'buy_price': '172500', 'sell_price': '172700', '24H_fluctate': '14900', '24H_fluctate_rate': '9.45'}, 'DASH': {'opening_price': '89400', 'closing_price': '93500', 'min_price': '88100', 'max_price': '94800', 'average_price': '93108.3997', 'units_traded': '4481041.38903055', 'volume_1day': '4481041.38903055', 'volume_7day': '35204984.10952653', 'buy_price': '93200', 'sell_price': '93500', '24H_fluctate': '4100', '24H_fluctate_rate': '4.58'}, 'LTC': {'opening_price': '35570', 'closing_price': '36730', 'min_price': '35230', 'max_price': '37330', 'average_price': '36418.837', 'units_traded': '74866.6587388', 'volume_1day': '74866.6587388', 'volume_7day': '178030.91088363', 'buy_price': '36630', 'sell_price': '36750', '24H_fluctate': '1160', '24H_fluctate_rate': '3.26'}, 'ETC': {'opening_price': '5845', 'closing_price': '5965', 'min_price': '5785', 'max_price': '6040', 'average_price': '5948.7159', 'units_traded': '189292.82097705', 'volume_1day': '189292.82097705', 'volume_7day': '1884941.308006084585137951', 'buy_price': '5950', 'sell_price': '5965', '24H_fluctate': '120', '24H_fluctate_rate': '2.05'}, 'XRP': {'opening_price': '403', 'closing_price': '411', 'min_price': '399', 'max_price': '420', 'average_price': '410.3665', 'units_traded': '73342377.18261128', 'volume_1day': '73342377.18261128', 'volume_7day': '507132376.78754941', 'buy_price': '411', 'sell_price': '412', '24H_fluctate': '8', '24H_fluctate_rate': '1.98'}, 'BCH': {'opening_price': '182200', 'closing_price': '189000', 'min_price': '179600', 'max_price': '195900', 'average_price': '186384.3394', 'units_traded': '76979.2937827', 'volume_1day': '76979.2937827', 'volume_7day': '607494.88094181', 'buy_price': '188600', 'sell_price': '189000', '24H_fluctate': '6800', '24H_fluctate_rate': '3.73'}, 'XMR': {'opening_price': '53500', 'closing_price': '57350', 'min_price': '53400', 'max_price': '59600', 'average_price': '57468.9275', 'units_traded': '12331050.78350932', 'volume_1day': '12331050.78350932', 'volume_7day': '55999021.73109975087', 'buy_price': '57050', 'sell_price': '57350', '24H_fluctate': '3850', '24H_fluctate_rate': '7.19'}, 'ZEC': {'opening_price': '65200', 'closing_price': '67150', 'min_price': '64400', 'max_price': '69150', 'average_price': '67093.1536', 'units_traded': '792810.46103335', 'volume_1day': '792810.46103335', 'volume_7day': '42233789.60034041', 'buy_price': '67000', 'sell_price': '67150', '24H_fluctate': '1950', '24H_fluctate_rate': '2.99'}, 'QTUM': {'opening_price': '2487', 'closing_price': '2555', 'min_price': '2434', 'max_price': '2599', 'average_price': '2529.7352', 'units_traded': '340103.66920913', 'volume_1day': '340103.66920913', 'volume_7day': '5276420.53374992', 'buy_price': '2555', 'sell_price': '2562', '24H_fluctate': '68', '24H_fluctate_rate': '2.73'}, 'BTG': {'opening_price': '14480', 'closing_price': '14800', 'min_price': '14300', 'max_price': '15100', 'average_price': '14890.5051', 'units_traded': '20164276.41440743', 'volume_1day': '20164276.41440743', 'volume_7day': '95385166.45260806', 'buy_price': '14800', 'sell_price': '14930', '24H_fluctate': '320', '24H_fluctate_rate': '2.20'}, 'EOS': {'opening_price': '2942', 'closing_price': '3152', 'min_price': '2926', 'max_price': '3204', 'average_price': '3082.3132', 'units_traded': '3695182.84942522', 'volume_1day': '3695182.84942522', 'volume_7day': '24563612.66428817', 'buy_price': '3148', 'sell_price': '3151', '24H_fluctate': '210', '24H_fluctate_rate': '7.13'}, 'ICX': {'opening_price': '269', 'closing_price': '311', 'min_price': '269', 'max_price': '314', 'average_price': '286.6654', 'units_traded': '1264618.01860589', 'volume_1day': '1264618.01860589', 'volume_7day': '3822885.910469998070597601', 'buy_price': '308', 'sell_price': '311', '24H_fluctate': '42', '24H_fluctate_rate': '15.61'}, 'VET': {'opening_price': '7.35', 'closing_price': '7.25', 'min_price': '7', 'max_price': '7.35', 'average_price': '7.2213', 'units_traded': '8949292.83011729', 'volume_1day': '8949292.83011729', 'volume_7day': '73712849.885010628192044491', 'buy_price': '7.25', 'sell_price': '7.3', '24H_fluctate': '-0.1', '24H_fluctate_rate': '-1.36'}, 'TRX': {'opening_price': '21.5', 'closing_price': '22.1', 'min_price': '21.3', 'max_price': '22.5', 'average_price': '21.9513', 'units_traded': '104344619.12869051', 'volume_1day': '104344619.12869051', 'volume_7day': '877524881.51959408', 'buy_price': '22', 'sell_price': '22.1', '24H_fluctate': '0.6', '24H_fluctate_rate': '2.79'}, 'ELF': {'opening_price': '126', 'closing_price': '128', 'min_price': '123', 'max_price': '132', 'average_price': '127.9936', 'units_traded': '1942572.04009283', 'volume_1day': '1942572.04009283', 'volume_7day': '16164843.142360584399320283', 'buy_price': '128', 'sell_price': '129', '24H_fluctate': '2', '24H_fluctate_rate': '1.58'}, 'MITH': {'opening_price': '69.1', 'closing_price': '70.6', 'min_price': '68.1', 'max_price': '72.5', 'average_price': '70.5077', 'units_traded': '13556965.05417066', 'volume_1day': '13556965.05417066', 'volume_7day': '114231069.274097367986315871', 'buy_price': '70.6', 'sell_price': '70.9', '24H_fluctate': '1.5', '24H_fluctate_rate': '2.17'}, 'MCO': {'opening_price': '2421', 'closing_price': '2605', 'min_price': '2421', 'max_price': '2700', 'average_price': '2575.7851', 'units_traded': '830137.26239459', 'volume_1day': '830137.26239459', 'volume_7day': '1165118.1515876', 'buy_price': '2600', 'sell_price': '2620', '24H_fluctate': '184', '24H_fluctate_rate': '7.60'}, 'OMG': {'opening_price': '1600', 'closing_price': '1673', 'min_price': '1590', 'max_price': '1705', 'average_price': '1652.9393', 'units_traded': '202131.73430102', 'volume_1day': '202131.73430102', 'volume_7day': '9958209.389976881507231663', 'buy_price': '1660', 'sell_price': '1673', '24H_fluctate': '73', '24H_fluctate_rate': '4.56'}, 'KNC': {'opening_price': '178', 'closing_price': '184', 'min_price': '178', 'max_price': '188', 'average_price': '182.5271', 'units_traded': '1244620.425592', 'volume_1day': '1244620.425592', 'volume_7day': '7463733.868876792226516373', 'buy_price': '183', 'sell_price': '184', '24H_fluctate': '6', '24H_fluctate_rate': '3.37'}, 'GNT': {'opening_price': '75.2', 'closing_price': '77.8', 'min_price': '74.4', 'max_price': '79', 'average_price': '77.2815', 'units_traded': '2563972.13456369', 'volume_1day': '2563972.13456369', 'volume_7day': '37912964.345710589477199817', 'buy_price': '77.2', 'sell_price': '77.8', '24H_fluctate': '2.6', '24H_fluctate_rate': '3.45'}, 'ZIL': {'opening_price': '22.7', 'closing_price': '22.7', 'min_price': '22.1', 'max_price': '23.3', 'average_price': '22.7783', 'units_traded': '33133841.87014693', 'volume_1day': '33133841.87014693', 'volume_7day': '470041603.386296597567', 'buy_price': '22.6', 'sell_price': '22.7', '24H_fluctate': '0', '24H_fluctate_rate': '0.00'}, 'ETHOS': {'opening_price': '1126', 'closing_price': '1118', 'min_price': '1060', 'max_price': '1156', 'average_price': '1105.384', 'units_traded': '376697.90876209', 'volume_1day': '376697.90876209', 'volume_7day': '7599691.30277118', 'buy_price': '1118', 'sell_price': '1121', '24H_fluctate': '-8', '24H_fluctate_rate': '-0.71'}, 'PAY': {'opening_price': '1853', 'closing_price': '1799', 'min_price': '1690', 'max_price': '1875', 'average_price': '1796.8574', 'units_traded': '542901.999094', 'volume_1day': '542901.999094', 'volume_7day': '12060908.302726976652719418', 'buy_price': '1795', 'sell_price': '1800', '24H_fluctate': '-54', '24H_fluctate_rate': '-2.91'}, 'WAX': {'opening_price': '109', 'closing_price': '106', 'min_price': '103', 'max_price': '110', 'average_price': '107.1904', 'units_traded': '1390098.15835296', 'volume_1day': '1390098.15835296', 'volume_7day': '21493918.45795321', 'buy_price': '106', 'sell_price': '107', '24H_fluctate': '-3', '24H_fluctate_rate': '-2.75'}, 'POWR': {'opening_price': '562', 'closing_price': '538', 'min_price': '500', 'max_price': '565', 'average_price': '537.4295', 'units_traded': '891644.36160137', 'volume_1day': '891644.36160137', 'volume_7day': '7856172.61949574', 'buy_price': '536', 'sell_price': '538', '24H_fluctate': '-24', '24H_fluctate_rate': '-4.27'}, 'LRC': {'opening_price': '602', 'closing_price': '585', 'min_price': '568', 'max_price': '610', 'average_price': '589.5742', 'units_traded': '346955.02306611', 'volume_1day': '346955.02306611', 'volume_7day': '3870657.891922897867907104', 'buy_price': '584', 'sell_price': '586', '24H_fluctate': '-17', '24H_fluctate_rate': '-2.82'}, 'GTO': {'opening_price': '73.4', 'closing_price': '72', 'min_price': '70.5', 'max_price': '74.4', 'average_price': '72.5069', 'units_traded': '2107781.09024819', 'volume_1day': '2107781.09024819', 'volume_7day': '25693402.26717941', 'buy_price': '72', 'sell_price': '72.8', '24H_fluctate': '-1.4', '24H_fluctate_rate': '-1.90'}, 'STEEM': {'opening_price': '1862', 'closing_price': '1875', 'min_price': '1800', 'max_price': '1919', 'average_price': '1852.4806', 'units_traded': '117825.80277375', 'volume_1day': '117825.80277375', 'volume_7day': '1674899.84807886', 'buy_price': '1849', 'sell_price': '1875', '24H_fluctate': '13', '24H_fluctate_rate': '0.69'}, 'STRAT': {'opening_price': '2920', 'closing_price': '2910', 'min_price': '2697', 'max_price': '2932', 'average_price': '2836.0339', 'units_traded': '85578.48941597', 'volume_1day': '85578.48941597', 'volume_7day': '714895.70340411', 'buy_price': '2882', 'sell_price': '2919', '24H_fluctate': '-10', '24H_fluctate_rate': '-0.34'}, 'ZRX': {'opening_price': '353', 'closing_price': '365', 'min_price': '353', 'max_price': '367', 'average_price': '360.8549', 'units_traded': '770984.05036698', 'volume_1day': '770984.05036698', 'volume_7day': '7103637.965925754933463535', 'buy_price': '363', 'sell_price': '365', '24H_fluctate': '12', '24H_fluctate_rate': '3.39'}, 'REP': {'opening_price': '97600', 'closing_price': '98950', 'min_price': '95650', 'max_price': '101000', 'average_price': '98069.5939', 'units_traded': '6039.70872481', 'volume_1day': '6039.70872481', 'volume_7day': '98886.871696350512509211', 'buy_price': '98200', 'sell_price': '98950', '24H_fluctate': '1350', '24H_fluctate_rate': '1.38'}, 'AE': {'opening_price': '1688', 'closing_price': '1673', 'min_price': '1605', 'max_price': '1720', 'average_price': '1651.2307', 'units_traded': '142033.45531272', 'volume_1day': '142033.45531272', 'volume_7day': '2321733.036637368926801516', 'buy_price': '1649', 'sell_price': '1673', '24H_fluctate': '-15', '24H_fluctate_rate': '-0.88'}, 'XEM': {'opening_price': '72.7', 'closing_price': '73.4', 'min_price': '71.2', 'max_price': '87.8', 'average_price': '76.0483', 'units_traded': '9547663.78344388', 'volume_1day': '9547663.78344388', 'volume_7day': '21149025.21603642', 'buy_price': '73.4', 'sell_price': '74.3', '24H_fluctate': '0.7', '24H_fluctate_rate': '0.96'}, 'SNT': {'opening_price': '118', 'closing_price': '119', 'min_price': '108', 'max_price': '120', 'average_price': '116.1467', 'units_traded': '3244123.69106442', 'volume_1day': '3244123.69106442', 'volume_7day': '26003490.953077065038854866', 'buy_price': '118', 'sell_price': '119', '24H_fluctate': '1', '24H_fluctate_rate': '0.84'}, 'ADA': {'opening_price': '78.5', 'closing_price': '78', 'min_price': '75.9', 'max_price': '79.5', 'average_price': '77.8624', 'units_traded': '2879255.54914736', 'volume_1day': '2879255.54914736', 'volume_7day': '40350456.26228218', 'buy_price': '76.9', 'sell_price': '78', '24H_fluctate': '-0.5', '24H_fluctate_rate': '-0.63'}, 'PPT': {'opening_price': '1665', 'closing_price': '1685', 'min_price': '1636', 'max_price': '1707', 'average_price': '1681.8802', 'units_traded': '35257.15478692', 'volume_1day': '35257.15478692', 'volume_7day': '758452.13204952', 'buy_price': '1674', 'sell_price': '1690', '24H_fluctate': '20', '24H_fluctate_rate': '1.20'}, 'CTXC': {'opening_price': '114', 'closing_price': '119', 'min_price': '112', 'max_price': '123', 'average_price': '117.8678', 'units_traded': '1745344.43609295', 'volume_1day': '1745344.43609295', 'volume_7day': '12043682.212507975775543446', 'buy_price': '119', 'sell_price': '120', '24H_fluctate': '5', '24H_fluctate_rate': '4.38'}, 'CMT': {'opening_price': '35.2', 'closing_price': '35.4', 'min_price': '32.4', 'max_price': '38.1', 'average_price': '36.1168', 'units_traded': '12324454.5603092', 'volume_1day': '12324454.5603092', 'volume_7day': '40570051.735510217290073956', 'buy_price': '34.8', 'sell_price': '35.4', '24H_fluctate': '0.2', '24H_fluctate_rate': '0.56'}, 'THETA': {'opening_price': '54.4', 'closing_price': '56.6', 'min_price': '52.8', 'max_price': '60', 'average_price': '55.7961', 'units_traded': '13077726.43023796', 'volume_1day': '13077726.43023796', 'volume_7day': '95495582.641909200836930498', 'buy_price': '56.3', 'sell_price': '56.6', '24H_fluctate': '2.2', '24H_fluctate_rate': '4.04'}, 'WTC': {'opening_price': '1241', 'closing_price': '1287', 'min_price': '1220', 'max_price': '1288', 'average_price': '1259.3776', 'units_traded': '104194.9117831', 'volume_1day': '104194.9117831', 'volume_7day': '2370583.295062167178244233', 'buy_price': '1270', 'sell_price': '1287', '24H_fluctate': '46', '24H_fluctate_rate': '3.70'}, 'ITC': {'opening_price': '136', 'closing_price': '141', 'min_price': '133', 'max_price': '142', 'average_price': '137.9957', 'units_traded': '2254731.80121271', 'volume_1day': '2254731.80121271', 'volume_7day': '26948128.761956729894070364', 'buy_price': '139', 'sell_price': '141', '24H_fluctate': '5', '24H_fluctate_rate': '3.67'}, 'TRUE': {'opening_price': '283', 'closing_price': '296', 'min_price': '280', 'max_price': '306', 'average_price': '292.2875', 'units_traded': '489519.86073792', 'volume_1day': '489519.86073792', 'volume_7day': '6725026.217698352801872378', 'buy_price': '292', 'sell_price': '296', '24H_fluctate': '13', '24H_fluctate_rate': '4.59'}, 'ABT': {'opening_price': '97', 'closing_price': '99', 'min_price': '92.8', 'max_price': '128', 'average_price': '108.5288', 'units_traded': '30408789.26979116', 'volume_1day': '30408789.26979116', 'volume_7day': '41538133.485904442921137791', 'buy_price': '98.4', 'sell_price': '99.1', '24H_fluctate': '2', '24H_fluctate_rate': '2.06'}, 'RNT': {'opening_price': '99.9', 'closing_price': '140', 'min_price': '96.4', 'max_price': '164', 'average_price': '135.4058', 'units_traded': '69922494.33668011', 'volume_1day': '69922494.33668011', 'volume_7day': '109795938.192612830357532673', 'buy_price': '139', 'sell_price': '140', '24H_fluctate': '40.1', '24H_fluctate_rate': '40.14'}, 'PLY': {'opening_price': '38.2', 'closing_price': '38.8', 'min_price': '36.9', 'max_price': '41.3', 'average_price': '39.0745', 'units_traded': '29115422.16476236', 'volume_1day': '29115422.16476236', 'volume_7day': '105053755.537894582', 'buy_price': '38.6', 'sell_price': '39', '24H_fluctate': '0.59', '24H_fluctate_rate': '1.57'}, 'WAVES': {'opening_price': '3501', 'closing_price': '3475', 'min_price': '3384', 'max_price': '3528', 'average_price': '3459.7262', 'units_traded': '1111686.65378897', 'volume_1day': '1111686.65378897', 'volume_7day': '2921037.86027814', 'buy_price': '3451', 'sell_price': '3474', '24H_fluctate': '-26', '24H_fluctate_rate': '-0.74'}, 'LINK': {'opening_price': '334', 'closing_price': '426', 'min_price': '330', 'max_price': '446', 'average_price': '389.0841', 'units_traded': '3346767.81327363', 'volume_1day': '3346767.81327363', 'volume_7day': '6623429.7331612300045238', 'buy_price': '427', 'sell_price': '428', '24H_fluctate': '92', '24H_fluctate_rate': '27.54'}, 'ENJ': {'opening_price': '44.8', 'closing_price': '44.7', 'min_price': '43.7', 'max_price': '45.9', 'average_price': '44.6548', 'units_traded': '3312586.72727866', 'volume_1day': '3312586.72727866', 'volume_7day': '31778309.537921664890108229', 'buy_price': '44.3', 'sell_price': '44.6', '24H_fluctate': '-0.09', '24H_fluctate_rate': '-0.22'}, 'PST': {'opening_price': '107', 'closing_price': '113', 'min_price': '105', 'max_price': '123', 'average_price': '115.2227', 'units_traded': '3494020.89351568', 'volume_1day': '3494020.89351568', 'volume_7day': '10799292.117634906301717168', 'buy_price': '113', 'sell_price': '116', '24H_fluctate': '6', '24H_fluctate_rate': '5.60'}, 'SALT': {'opening_price': '268', 'closing_price': '279', 'min_price': '265', 'max_price': '289', 'average_price': '275.4786', 'units_traded': '1739791.75933363', 'volume_1day': '1739791.75933363', 'volume_7day': '13184177.85011024', 'buy_price': '279', 'sell_price': '281', '24H_fluctate': '11', '24H_fluctate_rate': '4.10'}, 'RDN': {'opening_price': '261', 'closing_price': '311', 'min_price': '260', 'max_price': '350', 'average_price': '318.1345', 'units_traded': '6630283.15413866', 'volume_1day': '6630283.15413866', 'volume_7day': '21258123.731994257359668468', 'buy_price': '308', 'sell_price': '312', '24H_fluctate': '50', '24H_fluctate_rate': '19.15'}, 'LOOM': {'opening_price': '50.4', 'closing_price': '55.7', 'min_price': '50.2', 'max_price': '60', 'average_price': '55.1436', 'units_traded': '11246122.81356169', 'volume_1day': '11246122.81356169', 'volume_7day': '28217162.039519631791954907', 'buy_price': '55.7', 'sell_price': '56.2', '24H_fluctate': '5.3', '24H_fluctate_rate': '10.51'}, 'BHPC': {'opening_price': '914', 'closing_price': '908', 'min_price': '895', 'max_price': '930', 'average_price': '910.1344', 'units_traded': '691258.37602616', 'volume_1day': '691258.37602616', 'volume_7day': '9458589.25103488498452241', 'buy_price': '908', 'sell_price': '912', '24H_fluctate': '-6', '24H_fluctate_rate': '-0.65'}, 'PIVX': {'opening_price': '949', 'closing_price': '960', 'min_price': '929', 'max_price': '990', 'average_price': '961.8887', 'units_traded': '387441.41071671', 'volume_1day': '387441.41071671', 'volume_7day': '10777532.26681736', 'buy_price': '960', 'sell_price': '969', '24H_fluctate': '11', '24H_fluctate_rate': '1.15'}, 'INS': {'opening_price': '310', 'closing_price': '328', 'min_price': '307', 'max_price': '369', 'average_price': '332.7206', 'units_traded': '2690934.84323219', 'volume_1day': '2690934.84323219', 'volume_7day': '9996672.0886890327', 'buy_price': '328', 'sell_price': '330', '24H_fluctate': '18', '24H_fluctate_rate': '5.80'}, 'BCD': {'opening_price': '1017', 'closing_price': '1033', 'min_price': '1002', 'max_price': '1040', 'average_price': '1022.4243', 'units_traded': '221554.24212678', 'volume_1day': '221554.24212678', 'volume_7day': '2457945.38852558', 'buy_price': '1032', 'sell_price': '1035', '24H_fluctate': '16', '24H_fluctate_rate': '1.57'}, 'BZNT': {'opening_price': '25.8', 'closing_price': '28', 'min_price': '25.4', 'max_price': '31.9', 'average_price': '29.228', 'units_traded': '92400788.3535253', 'volume_1day': '92400788.3535253', 'volume_7day': '165574646.397879646283836089', 'buy_price': '27.7', 'sell_price': '28', '24H_fluctate': '2.2', '24H_fluctate_rate': '8.52'}, 'XLM': {'opening_price': '127', 'closing_price': '130', 'min_price': '126', 'max_price': '133', 'average_price': '129.4162', 'units_traded': '6959723.43420881', 'volume_1day': '6959723.43420881', 'volume_7day': '52996533.05788626', 'buy_price': '129', 'sell_price': '130', '24H_fluctate': '3', '24H_fluctate_rate': '2.36'}, 'OCN': {'opening_price': '4.03', 'closing_price': '3.96', 'min_price': '3.87', 'max_price': '4.07', 'average_price': '3.9647', 'units_traded': '79621384.91335208', 'volume_1day': '79621384.91335208', 'volume_7day': '1977299907.826179980201291135', 'buy_price': '3.96', 'sell_price': '3.98', '24H_fluctate': '-0.07', '24H_fluctate_rate': '-1.73'}, 'BSV': {'opening_price': '101700', 'closing_price': '102500', 'min_price': '100000', 'max_price': '106900', 'average_price': '102800.784', 'units_traded': '40012.99484368', 'volume_1day': '40012.99484368', 'volume_7day': '291856.71692145', 'buy_price': '102500', 'sell_price': '102800', '24H_fluctate': '800', '24H_fluctate_rate': '0.78'}, 'TMTG': {'opening_price': '8.36', 'closing_price': '8.35', 'min_price': '8.3', 'max_price': '8.5', 'average_price': '8.3861', 'units_traded': '200600542.03110134', 'volume_1day': '200600542.03110134', 'volume_7day': '1405697247.677453030037908733', 'buy_price': '8.33', 'sell_price': '8.35', '24H_fluctate': '-0', '24H_fluctate_rate': '-0.11'}, 'BAT': {'opening_price': '151', 'closing_price': '147', 'min_price': '145', 'max_price': '154', 'average_price': '148.7891', 'units_traded': '1391036.90667594', 'volume_1day': '1391036.90667594', 'volume_7day': '6885661.458185704766733152', 'buy_price': '147', 'sell_price': '149', '24H_fluctate': '-4', '24H_fluctate_rate': '-2.64'}, 'WET': {'opening_price': '13.7', 'closing_price': '14.2', 'min_price': '13.6', 'max_price': '14.6', 'average_price': '14.1263', 'units_traded': '31321532.67140886', 'volume_1day': '31321532.67140886', 'volume_7day': '218248639.237968161936344749', 'buy_price': '14.1', 'sell_price': '14.2', '24H_fluctate': '0.5', '24H_fluctate_rate': '3.64'}, 'XVG': {'opening_price': '7.82', 'closing_price': '7.97', 'min_price': '7.78', 'max_price': '8.09', 'average_price': '7.9211', 'units_traded': '6553125.64055046', 'volume_1day': '6553125.64055046', 'volume_7day': '52476616.90972393', 'buy_price': '7.97', 'sell_price': '8', '24H_fluctate': '0.15', '24H_fluctate_rate': '1.91'}, 'IOST': {'opening_price': '6.08', 'closing_price': '6.44', 'min_price': '6.05', 'max_price': '6.63', 'average_price': '6.3938', 'units_traded': '469596945.78867994', 'volume_1day': '469596945.78867994', 'volume_7day': '1074693299.020387639864523967', 'buy_price': '6.42', 'sell_price': '6.46', '24H_fluctate': '0.36', '24H_fluctate_rate': '5.92'}, 'POLY': {'opening_price': '157', 'closing_price': '159', 'min_price': '155', 'max_price': '165', 'average_price': '160.0636', 'units_traded': '1120346.55709356', 'volume_1day': '1120346.55709356', 'volume_7day': '13656375.11159986706337241', 'buy_price': '159', 'sell_price': '160', '24H_fluctate': '2', '24H_fluctate_rate': '1.27'}, 'HC': {'opening_price': '1432', 'closing_price': '1438', 'min_price': '1390', 'max_price': '1453', 'average_price': '1420.2765', 'units_traded': '67884.71602437', 'volume_1day': '67884.71602437', 'volume_7day': '1086340.58283894', 'buy_price': '1419', 'sell_price': '1437', '24H_fluctate': '6', '24H_fluctate_rate': '0.41'}, 'MEETONE': [], 'ADD': [], 'HORUS': [], 'CHL': [], 'EOSDAC': [], 'BLACK': [], 'ROM': {'opening_price': '0.13', 'closing_price': '0.13', 'min_price': '0.12', 'max_price': '0.14', 'average_price': '0.1273', 'units_traded': '19813166910.3076544', 'volume_1day': '19813166910.3076544', 'volume_7day': '175723215593.023389352610853531', 'buy_price': '0.12', 'sell_price': '0.13', '24H_fluctate': '0', '24H_fluctate_rate': '0.00'}, 'AMO': {'opening_price': '1.74', 'closing_price': '1.75', 'min_price': '1.66', 'max_price': '1.93', 'average_price': '1.7724', 'units_traded': '23079548368.004768', 'volume_1day': '23079548368.004768', 'volume_7day': '23572586293.381213381324872977', 'buy_price': '1.74', 'sell_price': '1.75', '24H_fluctate': '0.01', '24H_fluctate_rate': '0.57'}, 'date': '1546492422359'}\n"
     ]
    }
   ],
   "source": [
    "currency = requests.get('https://api.bithumb.com/public/ticker/all').json()['data']\n",
    "print(currency)"
   ]
  },
  {
   "cell_type": "code",
   "execution_count": 86,
   "metadata": {
    "scrolled": true
   },
   "outputs": [
    {
     "name": "stdout",
     "output_type": "stream",
     "text": [
      "BTC : 상승장\n",
      "ETH : 상승장\n",
      "DASH : 상승장\n",
      "LTC : 상승장\n",
      "ETC : 상승장\n",
      "XRP : 상승장\n",
      "BCH : 상승장\n",
      "XMR : 상승장\n",
      "ZEC : 상승장\n",
      "QTUM : 상승장\n",
      "BTG : 상승장\n",
      "EOS : 상승장\n",
      "ICX : 하락장\n",
      "VET : 상승장\n",
      "TRX : 상승장\n",
      "ELF : 상승장\n",
      "MITH : 상승장\n",
      "MCO : 하락장\n",
      "OMG : 상승장\n",
      "KNC : 하락장\n",
      "GNT : 상승장\n",
      "ZIL : 상승장\n",
      "ETHOS : 상승장\n",
      "PAY : 상승장\n",
      "WAX : 상승장\n",
      "POWR : 상승장\n",
      "LRC : 상승장\n",
      "GTO : 상승장\n",
      "STEEM : 상승장\n",
      "STRAT : 상승장\n",
      "ZRX : 하락장\n",
      "REP : 상승장\n",
      "AE : 상승장\n",
      "XEM : 상승장\n",
      "SNT : 상승장\n",
      "ADA : 상승장\n",
      "PPT : 상승장\n",
      "CTXC : 상승장\n",
      "CMT : 상승장\n",
      "THETA : 상승장\n",
      "WTC : 상승장\n",
      "ITC : 상승장\n",
      "TRUE : 상승장\n",
      "ABT : 상승장\n",
      "RNT : 상승장\n",
      "PLY : 상승장\n",
      "WAVES : 상승장\n",
      "LINK : 상승장\n",
      "ENJ : 상승장\n",
      "PST : 상승장\n",
      "SALT : 상승장\n",
      "RDN : 상승장\n",
      "LOOM : 상승장\n",
      "BHPC : 상승장\n",
      "PIVX : 상승장\n",
      "INS : 상승장\n",
      "BCD : 상승장\n",
      "BZNT : 상승장\n",
      "XLM : 상승장\n",
      "OCN : 상승장\n",
      "BSV : 상승장\n",
      "TMTG : 상승장\n",
      "BAT : 상승장\n",
      "WET : 상승장\n",
      "XVG : 상승장\n",
      "IOST : 상승장\n",
      "POLY : 상승장\n",
      "HC : 상승장\n",
      "ROM : 상승장\n",
      "AMO : 상승장\n"
     ]
    }
   ],
   "source": [
    "\n",
    "for i in currency.keys():\n",
    "    try:\n",
    "        if currency[i] :\n",
    "            high = float((currency[i]['max_price']))\n",
    "            low =  float((currency[i]['min_price']))\n",
    "            first = float((currency[i]['opening_price']))   \n",
    "\n",
    "            change = high - low\n",
    "\n",
    "            if (first + change)> high:\n",
    "                print(f\"{i} : 상승장\")\n",
    "            else:\n",
    "                print(f\"{i} : 하락장\")\n",
    "    except TypeError:\n",
    "        pass\n",
    "    \n",
    "    "
   ]
  },
  {
   "cell_type": "code",
   "execution_count": null,
   "metadata": {},
   "outputs": [],
   "source": [
    "for key,value in currency.items():\n",
    "    opening_price = int(btc['opening_price'])\n",
    "    max_price = int(btc['max_price'])\n",
    "    min_price = int(btc['min_price'])\n",
    "\n",
    "    if opening_price + (max_price - min_price) > max_price:\n",
    "        print(\"상승장\")\n",
    "    else:\n",
    "        print(\"하락장\")"
   ]
  },
  {
   "cell_type": "code",
   "execution_count": null,
   "metadata": {},
   "outputs": [],
   "source": [
    "방법 1.\n",
    "    if 'max_price' in value:\n",
    "\n",
    "방법 2.\n",
    "    if type(value) == type({}):\n",
    "        \n",
    "방법 3.\n",
    "    if isinstance(value,dict):        \n",
    "\n",
    "방법 4.\n",
    "    if isinstance(value,dict):     "
   ]
  }
 ],
 "metadata": {
  "kernelspec": {
   "display_name": "Python 3",
   "language": "python",
   "name": "python3"
  },
  "language_info": {
   "codemirror_mode": {
    "name": "ipython",
    "version": 3
   },
   "file_extension": ".py",
   "mimetype": "text/x-python",
   "name": "python",
   "nbconvert_exporter": "python",
   "pygments_lexer": "ipython3",
   "version": "3.7.1"
  },
  "toc": {
   "base_numbering": 1,
   "nav_menu": {},
   "number_sections": true,
   "sideBar": true,
   "skip_h1_title": false,
   "title_cell": "Table of Contents",
   "title_sidebar": "Contents",
   "toc_cell": false,
   "toc_position": {},
   "toc_section_display": true,
   "toc_window_display": false
  }
 },
 "nbformat": 4,
 "nbformat_minor": 2
}
